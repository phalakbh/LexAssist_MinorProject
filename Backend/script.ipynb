{
 "cells": [
  {
   "cell_type": "code",
   "execution_count": 1,
   "metadata": {},
   "outputs": [
    {
     "name": "stdout",
     "output_type": "stream",
     "text": [
      "2.18.0\n"
     ]
    }
   ],
   "source": [
    "import tensorflow as tf\n",
    "print(tf.__version__)\n"
   ]
  },
  {
   "cell_type": "code",
   "execution_count": 12,
   "metadata": {},
   "outputs": [
    {
     "name": "stdout",
     "output_type": "stream",
     "text": [
      "237\n",
      "No duplicate tags found.\n"
     ]
    }
   ],
   "source": [
    "import json\n",
    "\n",
    "def check_duplicate_tags(file_path):\n",
    "    # Open the JSON file and load its content\n",
    "    with open(file_path, 'r') as file:\n",
    "        data = json.load(file)\n",
    "\n",
    "    # Extract tags from the intents\n",
    "    tags = [intent['tag'] for intent in data.get('intents', [])]\n",
    "    print(len(tags))\n",
    "\n",
    "    # Create a dictionary to count occurrences of each tag\n",
    "    tag_counts = {}\n",
    "\n",
    "    for tag in tags:\n",
    "        if tag in tag_counts:\n",
    "            tag_counts[tag] += 1\n",
    "        else:\n",
    "            tag_counts[tag] = 1\n",
    "\n",
    "    # Identify and print tags that have duplicates\n",
    "    duplicates = [tag for tag, count in tag_counts.items() if count > 1]\n",
    "\n",
    "    if duplicates:\n",
    "        print(\"Duplicate tags found:\")\n",
    "        for tag in duplicates:\n",
    "            print(tag)\n",
    "    else:\n",
    "        print(\"No duplicate tags found.\")\n",
    "\n",
    "# Example usage\n",
    "file_path = 'intents1.json'  # Update this to the actual path of your intents JSON file\n",
    "check_duplicate_tags(file_path)\n"
   ]
  },
  {
   "cell_type": "code",
   "execution_count": null,
   "metadata": {},
   "outputs": [],
   "source": []
  }
 ],
 "metadata": {
  "kernelspec": {
   "display_name": "Python 3",
   "language": "python",
   "name": "python3"
  },
  "language_info": {
   "codemirror_mode": {
    "name": "ipython",
    "version": 3
   },
   "file_extension": ".py",
   "mimetype": "text/x-python",
   "name": "python",
   "nbconvert_exporter": "python",
   "pygments_lexer": "ipython3",
   "version": "3.12.3"
  }
 },
 "nbformat": 4,
 "nbformat_minor": 2
}
